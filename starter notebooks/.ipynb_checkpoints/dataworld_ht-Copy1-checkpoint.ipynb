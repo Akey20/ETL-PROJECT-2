{
 "cells": [
  {
   "cell_type": "code",
   "execution_count": null,
   "id": "68267c03",
   "metadata": {},
   "outputs": [],
   "source": [
    "# Dependencies\n",
    "import os \n",
    "import pandas as pd \n",
    "import numpy as np\n",
    "from sqlalchemy import create_engine\n",
    "\n",
    "#Reading in Files\n",
    "inc2018_df = pd.read_csv(\"resource/inc5000-2018.csv\")\n",
    "inc2019_df = pd.read_csv(\"resource/inc5000-2019.csv\")\n",
    "#inc10years_df = pd.read_csv(\"resource/inc5000_all10years.csv\", encoding='cp1252')"
   ]
  },
  {
   "cell_type": "code",
   "execution_count": null,
   "id": "e368285f",
   "metadata": {},
   "outputs": [],
   "source": [
    "# print inc2018_df\n",
    "inc2018_df.head()"
   ]
  },
  {
   "cell_type": "code",
   "execution_count": null,
   "id": "e7679869",
   "metadata": {},
   "outputs": [],
   "source": [
    "# iterating the columns of inc2018_df\n",
    "for col in inc2018_df.columns:\n",
    "    print(col)"
   ]
  },
  {
   "cell_type": "code",
   "execution_count": null,
   "id": "daa7ca7b",
   "metadata": {},
   "outputs": [],
   "source": [
    "# rename column for 2018 csv\n",
    "df2018= inc2018_df.rename(columns={'_ - id': 'id', \\\n",
    "                           '_ - url': 'url', \\\n",
    "                           '_ - rank': 'rank',\\\n",
    "                           '_ - city': 'city', \\\n",
    "                           '_ - ifmid': 'ifmid', \\\n",
    "                           '_ - ifiid': 'ifiid', \\\n",
    "                           '_ - growth': 'growth',\\\n",
    "                           '_ - workers': 'workers', \\\n",
    "                           '_ - company': 'company', \\\n",
    "                           '_ - website': 'website', \\\n",
    "                           '_ - state_l': 'state_l',\\\n",
    "                           '_ - state_s': 'state_s', \\\n",
    "                           '_ - revenue': 'revenue', \\\n",
    "                           '_ - zipcode': 'zipcode', \\\n",
    "                           '_ - founded': 'founded',\\\n",
    "                           '_ - industry': 'industry', \\\n",
    "                           '_ - latitude': 'latitude', \\\n",
    "                           '_ - metrocode': 'metrocode',\\\n",
    "                           '_ - longitude': 'longitude', \\\n",
    "                           '_ - yrs_on_list': 'yrs_on_list', \\\n",
    "                           '_ - previous_workers': 'previous_workers', \\\n",
    "                           '_ - metro': 'metro',\\\n",
    "                           '_ - partner_lists - partner_lists': 'partner_lists'})"
   ]
  },
  {
   "cell_type": "code",
   "execution_count": null,
   "id": "0700d5bc",
   "metadata": {},
   "outputs": [],
   "source": [
    "# inserting column \"year\" 2018\n",
    "df2018['year'] = '2018'"
   ]
  },
  {
   "cell_type": "code",
   "execution_count": null,
   "id": "454fee0a",
   "metadata": {},
   "outputs": [],
   "source": [
    "# selecting and ordering columns to be in 2018 dataframe\n",
    "df2018_clean = df2018[[\"year\",\"rank\", \"city\", \"growth\", \"workers\", \"company\", \"state_s\", \"state_l\", \"revenue\", \"yrs_on_list\", \"industry\", \"metro\"]]\n",
    "df2018_clean.head()"
   ]
  },
  {
   "cell_type": "code",
   "execution_count": null,
   "id": "51dba4cb",
   "metadata": {},
   "outputs": [],
   "source": [
    "inc2019_df.head()"
   ]
  },
  {
   "cell_type": "code",
   "execution_count": null,
   "id": "ae1462a0",
   "metadata": {},
   "outputs": [],
   "source": [
    "# iterating the columns\n",
    "for col in inc2019_df.columns:\n",
    "    print(col)"
   ]
  },
  {
   "cell_type": "code",
   "execution_count": null,
   "id": "136b993b",
   "metadata": {},
   "outputs": [],
   "source": [
    "# rename columns for 2019 csv\n",
    "#df2019= inc2019_df.rename(columns={'_ - rank': 'rank',\\\n",
    "#                           '_ - Profile': 'profile', \\\n",
    "#                           '_ - name': 'company', \\\n",
    "#                           'url': 'url',\\\n",
    "#                           'state': 'state_s',\\\n",
    "#                           '_ - revenue': 'revenue', \\\n",
    "#                           '_ - growth': 'growth',\\\n",
    "#                           '_ - industry': 'industry', \\\n",
    "#                           '_ - workers': 'workers', \\\n",
    "#                           '_ - founded': 'founded',\\\n",
    "#                           '_ - yrs_on_list': 'yrs_on_list', \\\n",
    "#                           '_ - previous_workers': 'previous_workers', \\\n",
    "#                           '_ - metro': 'metro',\\\n",
    "#                           'city': 'city'})\n",
    "\n",
    "# rename columns for 2019 csv\n",
    "inc2019_df.columns = ['rank', 'Profile', 'company', 'url', 'state_s', 'revenue', 'growth', 'industry', 'workers', 'founded', 'yrs_on_list', 'previous_workers', 'metro', 'city']\n",
    "df2019 = inc2019_df\n",
    "df2019.head()"
   ]
  },
  {
   "cell_type": "code",
   "execution_count": null,
   "id": "cdcd45d1",
   "metadata": {},
   "outputs": [],
   "source": [
    "# inserting column \"year\" = 2019\n",
    "df2019['year'] = '2019'\n",
    "\n",
    "# inserting column \"state_l\" for concating data frame purposes\n",
    "df2019[\"state_l\"] = \" \"\n",
    "\n",
    "df2019.head()"
   ]
  },
  {
   "cell_type": "code",
   "execution_count": null,
   "id": "0adee635",
   "metadata": {},
   "outputs": [],
   "source": [
    "# selecting and ordering columns to be in 2019 dataframe\n",
    "df2019_clean = df2019[[\"year\",\"rank\", \"city\", \"growth\", \"workers\", \"company\", \"state_s\", \"state_l\", \"revenue\", \"yrs_on_list\", \"industry\", \"metro\"]]\n",
    "df2019_clean.head()"
   ]
  },
  {
   "cell_type": "code",
   "execution_count": null,
   "id": "2840ca92",
   "metadata": {},
   "outputs": [],
   "source": [
    "# combining/concatenating df2018 and df2019\n",
    "df2018_2019_concat = pd.concat([df2018_clean, df2019_clean], axis=0)\n",
    "df2018_2019_concat.head()"
   ]
  },
  {
   "cell_type": "code",
   "execution_count": null,
   "id": "dfefd1ea",
   "metadata": {},
   "outputs": [],
   "source": [
    "industry_sector={\n",
    "    'Advertising & Marketing' : 'Multi-Sector',\n",
    "    'Business Products & Services' : 'Wholesale Trade',\n",
    "    'Computer Hardware' : 'Professional, Scientific, and Technical Services',\n",
    "    'Construction' : 'Construction',\n",
    "    'Consumer Products & Services' : 'Multi-Sector',\n",
    "    'Education' : 'Educational Services',\n",
    "    'Energy' : 'Utilites',\n",
    "    'Engineering' : 'Professional, Scientific, and Technical Services',\n",
    "    'Environmental Services' : 'Administrative and Support and Waste Management and Remediation Services',\n",
    "    'Financial Services' : 'Finance and Insurance',\n",
    "    'Food & Beverage' : 'Accommodation and Food Services',\n",
    "    'Government Services' : 'Government',\n",
    "    'Health' : 'Health Care and Social Assistance',\n",
    "    'Human Resources' : 'Management of Companies and Enterprises',\n",
    "    'Insurance' : 'Finance and Insurance',\n",
    "    'IT Services' : 'Information',\n",
    "    'Logistics & Transportation' : 'Transportation and Warehousing',\n",
    "    'Manufacturing' : 'Manufacturing',\n",
    "    'Media' : 'Arts, Entertainment, and Recreation',\n",
    "    'Real Estate' : 'Real Estate and Rental and Leasing',\n",
    "    'Retail' : 'Retail Trade',\n",
    "    'Security' : 'Other Services (except Public Administration)',\n",
    "    'Software' : 'Professional, Scientific, and Technical Services',\n",
    "    'Telecommunicatons' : 'Professional, Scientific, and Technical Services',\n",
    "    'Travel & Hospitality' : 'Accommodation and Food Services',\n",
    "    'IT Management' : 'Professional, Scientific, and Technical Services',\n",
    "    'IT System Development': 'Professional, Scientific, and Technical Services',\n",
    "}"
   ]
  },
  {
   "cell_type": "code",
   "execution_count": null,
   "id": "d257f647",
   "metadata": {},
   "outputs": [],
   "source": [
    "# code mapping : df['Capital'] = df['Country'].map(country_capital)\n",
    "# code insert to column index : df.insert(2, 'new-col', data)\n",
    "\n",
    "# add sector based on mapping by industry\n",
    "df2018_2019_concat['Sector'] = df2018_2019_concat['industry'].map(industry_sector)\n"
   ]
  },
  {
   "cell_type": "code",
   "execution_count": null,
   "id": "b4616c78",
   "metadata": {},
   "outputs": [],
   "source": [
    "df2018_2019_concat.head()"
   ]
  },
  {
   "cell_type": "code",
   "execution_count": null,
   "id": "2280adf3",
   "metadata": {},
   "outputs": [],
   "source": [
    "# create database connection\n",
    "connection_string = \"postgres:postgres@localhost:5432/Sector_Comparison\"\n",
    "engine = create_engine(f'postgresql://{connection_string}')"
   ]
  },
  {
   "cell_type": "code",
   "execution_count": null,
   "id": "31c40811",
   "metadata": {},
   "outputs": [],
   "source": [
    "# confirm tables\n",
    "engine.table_names()"
   ]
  },
  {
   "cell_type": "code",
   "execution_count": null,
   "id": "3036a348",
   "metadata": {},
   "outputs": [],
   "source": [
    "# load database into database\n",
    "df2018_2019_concat.to_sql(name='', con=engine, if_exist=append, index=True)"
   ]
  },
  {
   "cell_type": "code",
   "execution_count": null,
   "id": "ffa1fca7",
   "metadata": {},
   "outputs": [],
   "source": []
  },
  {
   "cell_type": "code",
   "execution_count": null,
   "id": "be57d10c",
   "metadata": {},
   "outputs": [],
   "source": [
    "#df2018_2019_concat.to_csv('inc2018_2019.csv')"
   ]
  },
  {
   "cell_type": "code",
   "execution_count": null,
   "id": "ee9cc4b6",
   "metadata": {},
   "outputs": [],
   "source": []
  },
  {
   "cell_type": "code",
   "execution_count": null,
   "id": "ceb5443c",
   "metadata": {},
   "outputs": [],
   "source": []
  },
  {
   "cell_type": "code",
   "execution_count": null,
   "id": "922656e2",
   "metadata": {},
   "outputs": [],
   "source": []
  },
  {
   "cell_type": "code",
   "execution_count": null,
   "id": "bdbfd41e",
   "metadata": {},
   "outputs": [],
   "source": []
  }
 ],
 "metadata": {
  "kernelspec": {
   "display_name": "PythonData",
   "language": "python",
   "name": "pythondata"
  },
  "language_info": {
   "codemirror_mode": {
    "name": "ipython",
    "version": 3
   },
   "file_extension": ".py",
   "mimetype": "text/x-python",
   "name": "python",
   "nbconvert_exporter": "python",
   "pygments_lexer": "ipython3",
   "version": "3.9.7"
  }
 },
 "nbformat": 4,
 "nbformat_minor": 5
}
