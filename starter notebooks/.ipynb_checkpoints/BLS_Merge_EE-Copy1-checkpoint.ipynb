{
 "cells": [
  {
   "cell_type": "code",
   "execution_count": null,
   "metadata": {},
   "outputs": [],
   "source": [
    "import pandas as pd\n",
    "from sqlalchemy import create_engine"
   ]
  },
  {
   "cell_type": "code",
   "execution_count": null,
   "metadata": {},
   "outputs": [],
   "source": [
    "# Create list of CSVs to import\n",
    "file_names = ['Accommodation_Food_Output.csv','Agriculture_Forestry_Output.csv','Arts_Entertainment_Output.csv','Construction_Output.csv','Education_Output.csv','Finance_Insurance_Output.csv','Health_Care_Output.csv','Information_Output.csv','Management_Companies.csv','Manufacturing_Output.csv','Mining_Output.csv','Other_Services_Output.csv','Professional_Services_Output.csv','Real_Estate_Output.csv','Retail_Trade_Output.csv','Transportation_Warehousing_Output.csv','Utilities_Output.csv','Waste_Management_Output.CSV','Wholesale_Trade_Output.csv']\n",
    "\n",
    "# Create filepath\n",
    "path = '../BLS_CSVs/'\n",
    "\n",
    "# Create Empty Dataframe\n",
    "bls_df_merge = pd.DataFrame()\n",
    "\n",
    "# Loop through CVSs and concat into single dataframe\n",
    "bls_df_merge = pd.concat((pd.read_csv(path + file) for file in file_names)).reset_index(drop = True)"
   ]
  },
  {
   "cell_type": "code",
   "execution_count": null,
   "metadata": {
    "scrolled": true
   },
   "outputs": [],
   "source": [
    "# check BLS dataframe\n",
    "bls_df_merge"
   ]
  },
  {
   "cell_type": "code",
   "execution_count": null,
   "metadata": {},
   "outputs": [],
   "source": [
    "# add sector IDs\n",
    "sector_id = pd.read_csv('../BLS_CSVs/BLS_Series_IDs.csv')\n",
    "sector_id"
   ]
  },
  {
   "cell_type": "code",
   "execution_count": null,
   "metadata": {},
   "outputs": [],
   "source": [
    "# add sector names to dataframe\n",
    "bls_df = pd.merge(bls_df_merge,sector_id,how='inner',on='Series ID')\n",
    "bls_df"
   ]
  },
  {
   "cell_type": "code",
   "execution_count": null,
   "metadata": {},
   "outputs": [],
   "source": [
    "# create engine\n",
    "rds_connection_string = \"postgres:postgres@localhost:5432/Sector_Comparison\"\n",
    "engine = create_engine(f'postgresql://{rds_connection_string}')"
   ]
  },
  {
   "cell_type": "code",
   "execution_count": null,
   "metadata": {},
   "outputs": [],
   "source": [
    "# add dataframe to SQL\n",
    "bls_df.to_sql(name='BLS', con=engine, if_exists='append', index=False)"
   ]
  }
 ],
 "metadata": {
  "kernelspec": {
   "display_name": "Python [conda env:.conda-PythonData] *",
   "language": "python",
   "name": "conda-env-.conda-PythonData-py"
  },
  "language_info": {
   "codemirror_mode": {
    "name": "ipython",
    "version": 3
   },
   "file_extension": ".py",
   "mimetype": "text/x-python",
   "name": "python",
   "nbconvert_exporter": "python",
   "pygments_lexer": "ipython3",
   "version": "3.6.10"
  }
 },
 "nbformat": 4,
 "nbformat_minor": 4
}
